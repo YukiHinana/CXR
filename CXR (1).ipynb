{
  "nbformat": 4,
  "nbformat_minor": 0,
  "metadata": {
    "kernelspec": {
      "display_name": "Python 3",
      "language": "python",
      "name": "python3"
    },
    "language_info": {
      "codemirror_mode": {
        "name": "ipython",
        "version": 3
      },
      "file_extension": ".py",
      "mimetype": "text/x-python",
      "name": "python",
      "nbconvert_exporter": "python",
      "pygments_lexer": "ipython3",
      "version": "3.8.3"
    },
    "colab": {
      "name": "CXR.ipynb",
      "provenance": [],
      "collapsed_sections": []
    }
  },
  "cells": [
    {
      "cell_type": "code",
      "metadata": {
        "id": "jDVjPHG-sKEW"
      },
      "source": [
        "import cv2\n",
        "import glob\n",
        "import os\n",
        "import pandas as pd\n",
        "import numpy as np\n",
        "import tensorflow as tf\n",
        "import matplotlib.pyplot as plt\n",
        "from itertools import chain\n",
        "from numpy import loadtxt\n",
        "import seaborn as sns\n",
        "from sklearn.model_selection import train_test_split\n",
        "from keras.preprocessing.image import ImageDataGenerator\n",
        "\n",
        "\n",
        "\n",
        "\n",
        "#patch_size = 256"
      ],
      "execution_count": 54,
      "outputs": []
    },
    {
      "cell_type": "code",
      "metadata": {
        "id": "Dl9E9Zx6sieI"
      },
      "source": [
        "url = 'https://raw.githubusercontent.com/YukiHinana/CXR/master/sample_labels.csv'"
      ],
      "execution_count": 6,
      "outputs": []
    },
    {
      "cell_type": "code",
      "metadata": {
        "id": "QOOKvLAasKEa",
        "outputId": "f4db58aa-a2cc-4899-bbf9-6c0c9ef71e14",
        "colab": {
          "base_uri": "https://localhost:8080/",
          "height": 68
        }
      },
      "source": [
        "#import csv file and record images path\n",
        "xray_data = pd.read_csv(url)\n",
        "print('Number of observations (csv):', len(xray_data))\n",
        "img_path = glob.glob('images/*.png')\n",
        "print('Number of observations (imgs):', len(img_path))\n",
        "\n",
        "img_path_dict = {}\n",
        "for i in range(len(img_path)):\n",
        "    img_path_dict[xray_data['Image Index'][i]] = img_path[i]\n",
        "print('Number of observations (imgs_abs):', len(img_path_dict))"
      ],
      "execution_count": 7,
      "outputs": [
        {
          "output_type": "stream",
          "text": [
            "Number of observations (csv): 5606\n",
            "Number of observations (imgs): 0\n",
            "Number of observations (imgs_abs): 0\n"
          ],
          "name": "stdout"
        }
      ]
    },
    {
      "cell_type": "code",
      "metadata": {
        "id": "E3_3RA3dsKEd"
      },
      "source": [
        "xray_data['Image Absolute Path'] = xray_data['Image Index'].map(img_path_dict)"
      ],
      "execution_count": 8,
      "outputs": []
    },
    {
      "cell_type": "code",
      "metadata": {
        "id": "c4kta5KxsKEg"
      },
      "source": [
        "xray_data['Patient Age'] = xray_data['Patient Age'].map(lambda x:int(x[:-1]))"
      ],
      "execution_count": 9,
      "outputs": []
    },
    {
      "cell_type": "code",
      "metadata": {
        "id": "CNvnRJExsKEi"
      },
      "source": [
        ""
      ],
      "execution_count": 10,
      "outputs": []
    },
    {
      "cell_type": "code",
      "metadata": {
        "id": "18DlwrUVsKEk"
      },
      "source": [
        ""
      ],
      "execution_count": 10,
      "outputs": []
    },
    {
      "cell_type": "code",
      "metadata": {
        "id": "QmNeDuUMsKEn"
      },
      "source": [
        "# labels for\n",
        "labels = ['Atelectasis', 'Cardiomegaly', 'Effusion', 'Infiltration', 'Mass', 'Nodule', 'Pneumonia', 'Pneumothorax', 'Consolidation', 'Edema', 'Emphysema', 'Fibrosis', 'Pleural_Thickening', 'Hernia']"
      ],
      "execution_count": 10,
      "outputs": []
    },
    {
      "cell_type": "code",
      "metadata": {
        "id": "EsBC0qkQsKEp",
        "outputId": "eba26f97-2aaa-4dee-f6bb-7afad8e28b75",
        "colab": {
          "base_uri": "https://localhost:8080/",
          "height": 34
        }
      },
      "source": [
        "len(labels)"
      ],
      "execution_count": 12,
      "outputs": [
        {
          "output_type": "execute_result",
          "data": {
            "text/plain": [
              "14"
            ]
          },
          "metadata": {
            "tags": []
          },
          "execution_count": 12
        }
      ]
    },
    {
      "cell_type": "code",
      "metadata": {
        "scrolled": true,
        "id": "rpNoLErqsKEt",
        "outputId": "80cf5d0a-369c-44d0-d28b-8bf167c25936",
        "colab": {
          "base_uri": "https://localhost:8080/",
          "height": 165
        }
      },
      "source": [
        "for l in labels:\n",
        "    xray_data[l] = xray_data['Finding Labels'].map(lambda x: 1 if l in x else 0)\n",
        "xray_data.head(2)"
      ],
      "execution_count": 11,
      "outputs": [
        {
          "output_type": "execute_result",
          "data": {
            "text/html": [
              "<div>\n",
              "<style scoped>\n",
              "    .dataframe tbody tr th:only-of-type {\n",
              "        vertical-align: middle;\n",
              "    }\n",
              "\n",
              "    .dataframe tbody tr th {\n",
              "        vertical-align: top;\n",
              "    }\n",
              "\n",
              "    .dataframe thead th {\n",
              "        text-align: right;\n",
              "    }\n",
              "</style>\n",
              "<table border=\"1\" class=\"dataframe\">\n",
              "  <thead>\n",
              "    <tr style=\"text-align: right;\">\n",
              "      <th></th>\n",
              "      <th>Image Index</th>\n",
              "      <th>Finding Labels</th>\n",
              "      <th>Follow-up #</th>\n",
              "      <th>Patient ID</th>\n",
              "      <th>Patient Age</th>\n",
              "      <th>Patient Gender</th>\n",
              "      <th>View Position</th>\n",
              "      <th>OriginalImageWidth</th>\n",
              "      <th>OriginalImageHeight</th>\n",
              "      <th>OriginalImagePixelSpacing_x</th>\n",
              "      <th>OriginalImagePixelSpacing_y</th>\n",
              "      <th>Image Absolute Path</th>\n",
              "      <th>Atelectasis</th>\n",
              "      <th>Cardiomegaly</th>\n",
              "      <th>Effusion</th>\n",
              "      <th>Infiltration</th>\n",
              "      <th>Mass</th>\n",
              "      <th>Nodule</th>\n",
              "      <th>Pneumonia</th>\n",
              "      <th>Pneumothorax</th>\n",
              "      <th>Consolidation</th>\n",
              "      <th>Edema</th>\n",
              "      <th>Emphysema</th>\n",
              "      <th>Fibrosis</th>\n",
              "      <th>Pleural_Thickening</th>\n",
              "      <th>Hernia</th>\n",
              "    </tr>\n",
              "  </thead>\n",
              "  <tbody>\n",
              "    <tr>\n",
              "      <th>0</th>\n",
              "      <td>00000013_005.png</td>\n",
              "      <td>Emphysema|Infiltration|Pleural_Thickening|Pneu...</td>\n",
              "      <td>5</td>\n",
              "      <td>13</td>\n",
              "      <td>60</td>\n",
              "      <td>M</td>\n",
              "      <td>AP</td>\n",
              "      <td>3056</td>\n",
              "      <td>2544</td>\n",
              "      <td>0.139</td>\n",
              "      <td>0.139</td>\n",
              "      <td>NaN</td>\n",
              "      <td>0</td>\n",
              "      <td>0</td>\n",
              "      <td>0</td>\n",
              "      <td>1</td>\n",
              "      <td>0</td>\n",
              "      <td>0</td>\n",
              "      <td>0</td>\n",
              "      <td>1</td>\n",
              "      <td>0</td>\n",
              "      <td>0</td>\n",
              "      <td>1</td>\n",
              "      <td>0</td>\n",
              "      <td>1</td>\n",
              "      <td>0</td>\n",
              "    </tr>\n",
              "    <tr>\n",
              "      <th>1</th>\n",
              "      <td>00000013_026.png</td>\n",
              "      <td>Cardiomegaly|Emphysema</td>\n",
              "      <td>26</td>\n",
              "      <td>13</td>\n",
              "      <td>57</td>\n",
              "      <td>M</td>\n",
              "      <td>AP</td>\n",
              "      <td>2500</td>\n",
              "      <td>2048</td>\n",
              "      <td>0.168</td>\n",
              "      <td>0.168</td>\n",
              "      <td>NaN</td>\n",
              "      <td>0</td>\n",
              "      <td>1</td>\n",
              "      <td>0</td>\n",
              "      <td>0</td>\n",
              "      <td>0</td>\n",
              "      <td>0</td>\n",
              "      <td>0</td>\n",
              "      <td>0</td>\n",
              "      <td>0</td>\n",
              "      <td>0</td>\n",
              "      <td>1</td>\n",
              "      <td>0</td>\n",
              "      <td>0</td>\n",
              "      <td>0</td>\n",
              "    </tr>\n",
              "  </tbody>\n",
              "</table>\n",
              "</div>"
            ],
            "text/plain": [
              "        Image Index  ... Hernia\n",
              "0  00000013_005.png  ...      0\n",
              "1  00000013_026.png  ...      0\n",
              "\n",
              "[2 rows x 26 columns]"
            ]
          },
          "metadata": {
            "tags": []
          },
          "execution_count": 11
        }
      ]
    },
    {
      "cell_type": "code",
      "metadata": {
        "id": "YZfLtavYsKEv",
        "outputId": "0f95d774-86bd-48c3-9f41-1abb08569013",
        "colab": {
          "base_uri": "https://localhost:8080/",
          "height": 34
        }
      },
      "source": [
        "type(xray_data[labels])"
      ],
      "execution_count": 14,
      "outputs": [
        {
          "output_type": "execute_result",
          "data": {
            "text/plain": [
              "pandas.core.frame.DataFrame"
            ]
          },
          "metadata": {
            "tags": []
          },
          "execution_count": 14
        }
      ]
    },
    {
      "cell_type": "code",
      "metadata": {
        "id": "iiD5E648sKEx",
        "outputId": "ee9bb48f-32a4-49f0-90fc-b51a80e77015",
        "colab": {
          "base_uri": "https://localhost:8080/",
          "height": 136
        }
      },
      "source": [
        "xray_data[labels].values"
      ],
      "execution_count": 12,
      "outputs": [
        {
          "output_type": "execute_result",
          "data": {
            "text/plain": [
              "array([[0, 0, 0, ..., 0, 1, 0],\n",
              "       [0, 1, 0, ..., 0, 0, 0],\n",
              "       [0, 0, 0, ..., 0, 0, 0],\n",
              "       ...,\n",
              "       [0, 0, 0, ..., 0, 0, 0],\n",
              "       [0, 0, 0, ..., 0, 0, 0],\n",
              "       [0, 0, 0, ..., 0, 0, 0]])"
            ]
          },
          "metadata": {
            "tags": []
          },
          "execution_count": 12
        }
      ]
    },
    {
      "cell_type": "code",
      "metadata": {
        "id": "lOxVHsLTsKEz"
      },
      "source": [
        "# set target values\n",
        "xray_data['targets'] = xray_data.apply(lambda x:[x[labels].values], 1).map(lambda target: target[0].tolist())"
      ],
      "execution_count": 13,
      "outputs": []
    },
    {
      "cell_type": "code",
      "metadata": {
        "id": "j5JsQtLisKE1",
        "outputId": "3100a784-3ed4-4bc2-bf24-cce0cc316b60",
        "colab": {
          "base_uri": "https://localhost:8080/",
          "height": 34
        }
      },
      "source": [
        "type(xray_data['targets'])"
      ],
      "execution_count": 14,
      "outputs": [
        {
          "output_type": "execute_result",
          "data": {
            "text/plain": [
              "pandas.core.series.Series"
            ]
          },
          "metadata": {
            "tags": []
          },
          "execution_count": 14
        }
      ]
    },
    {
      "cell_type": "code",
      "metadata": {
        "scrolled": true,
        "id": "4ytrUmO_sKE4",
        "outputId": "c2860493-a1ab-424f-b0f8-7f80c02b8aa1",
        "colab": {
          "base_uri": "https://localhost:8080/",
          "height": 267
        }
      },
      "source": [
        "xray_data.head(2)"
      ],
      "execution_count": 15,
      "outputs": [
        {
          "output_type": "execute_result",
          "data": {
            "text/html": [
              "<div>\n",
              "<style scoped>\n",
              "    .dataframe tbody tr th:only-of-type {\n",
              "        vertical-align: middle;\n",
              "    }\n",
              "\n",
              "    .dataframe tbody tr th {\n",
              "        vertical-align: top;\n",
              "    }\n",
              "\n",
              "    .dataframe thead th {\n",
              "        text-align: right;\n",
              "    }\n",
              "</style>\n",
              "<table border=\"1\" class=\"dataframe\">\n",
              "  <thead>\n",
              "    <tr style=\"text-align: right;\">\n",
              "      <th></th>\n",
              "      <th>Image Index</th>\n",
              "      <th>Finding Labels</th>\n",
              "      <th>Follow-up #</th>\n",
              "      <th>Patient ID</th>\n",
              "      <th>Patient Age</th>\n",
              "      <th>Patient Gender</th>\n",
              "      <th>View Position</th>\n",
              "      <th>OriginalImageWidth</th>\n",
              "      <th>OriginalImageHeight</th>\n",
              "      <th>OriginalImagePixelSpacing_x</th>\n",
              "      <th>OriginalImagePixelSpacing_y</th>\n",
              "      <th>Image Absolute Path</th>\n",
              "      <th>Atelectasis</th>\n",
              "      <th>Cardiomegaly</th>\n",
              "      <th>Effusion</th>\n",
              "      <th>Infiltration</th>\n",
              "      <th>Mass</th>\n",
              "      <th>Nodule</th>\n",
              "      <th>Pneumonia</th>\n",
              "      <th>Pneumothorax</th>\n",
              "      <th>Consolidation</th>\n",
              "      <th>Edema</th>\n",
              "      <th>Emphysema</th>\n",
              "      <th>Fibrosis</th>\n",
              "      <th>Pleural_Thickening</th>\n",
              "      <th>Hernia</th>\n",
              "      <th>targets</th>\n",
              "    </tr>\n",
              "  </thead>\n",
              "  <tbody>\n",
              "    <tr>\n",
              "      <th>0</th>\n",
              "      <td>00000013_005.png</td>\n",
              "      <td>Emphysema|Infiltration|Pleural_Thickening|Pneu...</td>\n",
              "      <td>5</td>\n",
              "      <td>13</td>\n",
              "      <td>60</td>\n",
              "      <td>M</td>\n",
              "      <td>AP</td>\n",
              "      <td>3056</td>\n",
              "      <td>2544</td>\n",
              "      <td>0.139</td>\n",
              "      <td>0.139</td>\n",
              "      <td>NaN</td>\n",
              "      <td>0</td>\n",
              "      <td>0</td>\n",
              "      <td>0</td>\n",
              "      <td>1</td>\n",
              "      <td>0</td>\n",
              "      <td>0</td>\n",
              "      <td>0</td>\n",
              "      <td>1</td>\n",
              "      <td>0</td>\n",
              "      <td>0</td>\n",
              "      <td>1</td>\n",
              "      <td>0</td>\n",
              "      <td>1</td>\n",
              "      <td>0</td>\n",
              "      <td>[0, 0, 0, 1, 0, 0, 0, 1, 0, 0, 1, 0, 1, 0]</td>\n",
              "    </tr>\n",
              "    <tr>\n",
              "      <th>1</th>\n",
              "      <td>00000013_026.png</td>\n",
              "      <td>Cardiomegaly|Emphysema</td>\n",
              "      <td>26</td>\n",
              "      <td>13</td>\n",
              "      <td>57</td>\n",
              "      <td>M</td>\n",
              "      <td>AP</td>\n",
              "      <td>2500</td>\n",
              "      <td>2048</td>\n",
              "      <td>0.168</td>\n",
              "      <td>0.168</td>\n",
              "      <td>NaN</td>\n",
              "      <td>0</td>\n",
              "      <td>1</td>\n",
              "      <td>0</td>\n",
              "      <td>0</td>\n",
              "      <td>0</td>\n",
              "      <td>0</td>\n",
              "      <td>0</td>\n",
              "      <td>0</td>\n",
              "      <td>0</td>\n",
              "      <td>0</td>\n",
              "      <td>1</td>\n",
              "      <td>0</td>\n",
              "      <td>0</td>\n",
              "      <td>0</td>\n",
              "      <td>[0, 1, 0, 0, 0, 0, 0, 0, 0, 0, 1, 0, 0, 0]</td>\n",
              "    </tr>\n",
              "  </tbody>\n",
              "</table>\n",
              "</div>"
            ],
            "text/plain": [
              "        Image Index  ...                                     targets\n",
              "0  00000013_005.png  ...  [0, 0, 0, 1, 0, 0, 0, 1, 0, 0, 1, 0, 1, 0]\n",
              "1  00000013_026.png  ...  [0, 1, 0, 0, 0, 0, 0, 0, 0, 0, 1, 0, 0, 0]\n",
              "\n",
              "[2 rows x 27 columns]"
            ]
          },
          "metadata": {
            "tags": []
          },
          "execution_count": 15
        }
      ]
    },
    {
      "cell_type": "code",
      "metadata": {
        "id": "5dZJLjk-89_T",
        "outputId": "04d8eb75-66d8-430f-bfb6-660567f1fccb",
        "colab": {
          "base_uri": "https://localhost:8080/",
          "height": 578
        }
      },
      "source": [
        "xray_data.info()"
      ],
      "execution_count": 33,
      "outputs": [
        {
          "output_type": "stream",
          "text": [
            "<class 'pandas.core.frame.DataFrame'>\n",
            "RangeIndex: 5606 entries, 0 to 5605\n",
            "Data columns (total 26 columns):\n",
            " #   Column                       Non-Null Count  Dtype  \n",
            "---  ------                       --------------  -----  \n",
            " 0   Image Index                  5606 non-null   object \n",
            " 1   Finding Labels               5606 non-null   object \n",
            " 2   Follow-up #                  5606 non-null   int64  \n",
            " 3   Patient ID                   5606 non-null   int64  \n",
            " 4   Patient Age                  5606 non-null   int64  \n",
            " 5   Patient Gender               5606 non-null   object \n",
            " 6   View Position                5606 non-null   object \n",
            " 7   OriginalImageWidth           5606 non-null   int64  \n",
            " 8   OriginalImageHeight          5606 non-null   int64  \n",
            " 9   OriginalImagePixelSpacing_x  5606 non-null   float64\n",
            " 10  OriginalImagePixelSpacing_y  5606 non-null   float64\n",
            " 11  Atelectasis                  5606 non-null   int64  \n",
            " 12  Cardiomegaly                 5606 non-null   int64  \n",
            " 13  Effusion                     5606 non-null   int64  \n",
            " 14  Infiltration                 5606 non-null   int64  \n",
            " 15  Mass                         5606 non-null   int64  \n",
            " 16  Nodule                       5606 non-null   int64  \n",
            " 17  Pneumonia                    5606 non-null   int64  \n",
            " 18  Pneumothorax                 5606 non-null   int64  \n",
            " 19  Consolidation                5606 non-null   int64  \n",
            " 20  Edema                        5606 non-null   int64  \n",
            " 21  Emphysema                    5606 non-null   int64  \n",
            " 22  Fibrosis                     5606 non-null   int64  \n",
            " 23  Pleural_Thickening           5606 non-null   int64  \n",
            " 24  Hernia                       5606 non-null   int64  \n",
            " 25  targets                      5606 non-null   object \n",
            "dtypes: float64(2), int64(19), object(5)\n",
            "memory usage: 1.1+ MB\n"
          ],
          "name": "stdout"
        }
      ]
    },
    {
      "cell_type": "code",
      "metadata": {
        "id": "64fUVtEA9JtE"
      },
      "source": [
        "xray_data.drop(columns=['Image Absolute Path'], inplace=True)"
      ],
      "execution_count": 31,
      "outputs": []
    },
    {
      "cell_type": "code",
      "metadata": {
        "id": "NTPmmowf8NEx",
        "outputId": "6cbe7d3a-c2d6-49aa-fce1-c175c44090b1",
        "colab": {
          "base_uri": "https://localhost:8080/",
          "height": 476
        }
      },
      "source": [
        "xray_data.dtypes"
      ],
      "execution_count": 32,
      "outputs": [
        {
          "output_type": "execute_result",
          "data": {
            "text/plain": [
              "Image Index                     object\n",
              "Finding Labels                  object\n",
              "Follow-up #                      int64\n",
              "Patient ID                       int64\n",
              "Patient Age                      int64\n",
              "Patient Gender                  object\n",
              "View Position                   object\n",
              "OriginalImageWidth               int64\n",
              "OriginalImageHeight              int64\n",
              "OriginalImagePixelSpacing_x    float64\n",
              "OriginalImagePixelSpacing_y    float64\n",
              "Atelectasis                      int64\n",
              "Cardiomegaly                     int64\n",
              "Effusion                         int64\n",
              "Infiltration                     int64\n",
              "Mass                             int64\n",
              "Nodule                           int64\n",
              "Pneumonia                        int64\n",
              "Pneumothorax                     int64\n",
              "Consolidation                    int64\n",
              "Edema                            int64\n",
              "Emphysema                        int64\n",
              "Fibrosis                         int64\n",
              "Pleural_Thickening               int64\n",
              "Hernia                           int64\n",
              "targets                         object\n",
              "dtype: object"
            ]
          },
          "metadata": {
            "tags": []
          },
          "execution_count": 32
        }
      ]
    },
    {
      "cell_type": "code",
      "metadata": {
        "id": "QlY1znyO8fdO",
        "outputId": "66c028d6-b2cd-4852-86b0-7ba0c5a59189",
        "colab": {
          "base_uri": "https://localhost:8080/",
          "height": 879
        }
      },
      "source": [
        "xray_data.hist(bins=50, figsize=(20,15))\n",
        "plt.show()"
      ],
      "execution_count": 34,
      "outputs": [
        {
          "output_type": "display_data",
          "data": {
            "image/png": "[encoded data removed]",
            "text/plain": [
              "<Figure size 1440x1080 with 25 Axes>"
            ]
          },
          "metadata": {
            "tags": [],
            "needs_background": "light"
          }
        }
      ]
    },
    {
      "cell_type": "code",
      "metadata": {
        "id": "GNK_1G_f9fSP",
        "outputId": "6a030b20-7313-4357-e74e-b66912f00a1c",
        "colab": {
          "base_uri": "https://localhost:8080/",
          "height": 68
        }
      },
      "source": [
        "all_labels = np.unique(list(chain(*[i.split('|') for i in xray_data['Finding Labels']])))\n",
        "print(all_labels)"
      ],
      "execution_count": 44,
      "outputs": [
        {
          "output_type": "stream",
          "text": [
            "['Atelectasis' 'Cardiomegaly' 'Consolidation' 'Edema' 'Effusion'\n",
            " 'Emphysema' 'Fibrosis' 'Hernia' 'Infiltration' 'Mass' 'No Finding'\n",
            " 'Nodule' 'Pleural_Thickening' 'Pneumonia' 'Pneumothorax']\n"
          ],
          "name": "stdout"
        }
      ]
    },
    {
      "cell_type": "code",
      "metadata": {
        "id": "6nQEUhkH--lc",
        "outputId": "dc0fa3d7-e772-44aa-b7b0-c3ebada1f734",
        "colab": {
          "base_uri": "https://localhost:8080/",
          "height": 332
        }
      },
      "source": [
        "for c_label in all_labels:\n",
        "    xray_data[c_label] = xray_data['Finding Labels'].map(lambda finding: 1.0 if c_label in finding else 0)\n",
        "xray_data.sample(3)"
      ],
      "execution_count": 47,
      "outputs": [
        {
          "output_type": "execute_result",
          "data": {
            "text/html": [
              "<div>\n",
              "<style scoped>\n",
              "    .dataframe tbody tr th:only-of-type {\n",
              "        vertical-align: middle;\n",
              "    }\n",
              "\n",
              "    .dataframe tbody tr th {\n",
              "        vertical-align: top;\n",
              "    }\n",
              "\n",
              "    .dataframe thead th {\n",
              "        text-align: right;\n",
              "    }\n",
              "</style>\n",
              "<table border=\"1\" class=\"dataframe\">\n",
              "  <thead>\n",
              "    <tr style=\"text-align: right;\">\n",
              "      <th></th>\n",
              "      <th>Image Index</th>\n",
              "      <th>Finding Labels</th>\n",
              "      <th>Follow-up #</th>\n",
              "      <th>Patient ID</th>\n",
              "      <th>Patient Age</th>\n",
              "      <th>Patient Gender</th>\n",
              "      <th>View Position</th>\n",
              "      <th>OriginalImageWidth</th>\n",
              "      <th>OriginalImageHeight</th>\n",
              "      <th>OriginalImagePixelSpacing_x</th>\n",
              "      <th>OriginalImagePixelSpacing_y</th>\n",
              "      <th>Atelectasis</th>\n",
              "      <th>Cardiomegaly</th>\n",
              "      <th>Effusion</th>\n",
              "      <th>Infiltration</th>\n",
              "      <th>Mass</th>\n",
              "      <th>Nodule</th>\n",
              "      <th>Pneumonia</th>\n",
              "      <th>Pneumothorax</th>\n",
              "      <th>Consolidation</th>\n",
              "      <th>Edema</th>\n",
              "      <th>Emphysema</th>\n",
              "      <th>Fibrosis</th>\n",
              "      <th>Pleural_Thickening</th>\n",
              "      <th>Hernia</th>\n",
              "      <th>targets</th>\n",
              "      <th>No Finding</th>\n",
              "    </tr>\n",
              "  </thead>\n",
              "  <tbody>\n",
              "    <tr>\n",
              "      <th>2500</th>\n",
              "      <td>00012594_001.png</td>\n",
              "      <td>Nodule</td>\n",
              "      <td>1</td>\n",
              "      <td>12594</td>\n",
              "      <td>53</td>\n",
              "      <td>M</td>\n",
              "      <td>PA</td>\n",
              "      <td>2992</td>\n",
              "      <td>2991</td>\n",
              "      <td>0.143000</td>\n",
              "      <td>0.143000</td>\n",
              "      <td>0.0</td>\n",
              "      <td>0.0</td>\n",
              "      <td>0.0</td>\n",
              "      <td>0.0</td>\n",
              "      <td>0.0</td>\n",
              "      <td>1.0</td>\n",
              "      <td>0.0</td>\n",
              "      <td>0.0</td>\n",
              "      <td>0.0</td>\n",
              "      <td>0.0</td>\n",
              "      <td>0.0</td>\n",
              "      <td>0.0</td>\n",
              "      <td>0.0</td>\n",
              "      <td>0.0</td>\n",
              "      <td>[0, 0, 0, 0, 0, 1, 0, 0, 0, 0, 0, 0, 0, 0]</td>\n",
              "      <td>0.0</td>\n",
              "    </tr>\n",
              "    <tr>\n",
              "      <th>104</th>\n",
              "      <td>00000583_016.png</td>\n",
              "      <td>Effusion|Infiltration</td>\n",
              "      <td>16</td>\n",
              "      <td>583</td>\n",
              "      <td>40</td>\n",
              "      <td>F</td>\n",
              "      <td>AP</td>\n",
              "      <td>2500</td>\n",
              "      <td>2048</td>\n",
              "      <td>0.168000</td>\n",
              "      <td>0.168000</td>\n",
              "      <td>0.0</td>\n",
              "      <td>0.0</td>\n",
              "      <td>1.0</td>\n",
              "      <td>1.0</td>\n",
              "      <td>0.0</td>\n",
              "      <td>0.0</td>\n",
              "      <td>0.0</td>\n",
              "      <td>0.0</td>\n",
              "      <td>0.0</td>\n",
              "      <td>0.0</td>\n",
              "      <td>0.0</td>\n",
              "      <td>0.0</td>\n",
              "      <td>0.0</td>\n",
              "      <td>0.0</td>\n",
              "      <td>[0, 0, 1, 1, 0, 0, 0, 0, 0, 0, 0, 0, 0, 0]</td>\n",
              "      <td>0.0</td>\n",
              "    </tr>\n",
              "    <tr>\n",
              "      <th>3305</th>\n",
              "      <td>00016300_001.png</td>\n",
              "      <td>No Finding</td>\n",
              "      <td>1</td>\n",
              "      <td>16300</td>\n",
              "      <td>38</td>\n",
              "      <td>F</td>\n",
              "      <td>PA</td>\n",
              "      <td>2021</td>\n",
              "      <td>2021</td>\n",
              "      <td>0.194311</td>\n",
              "      <td>0.194311</td>\n",
              "      <td>0.0</td>\n",
              "      <td>0.0</td>\n",
              "      <td>0.0</td>\n",
              "      <td>0.0</td>\n",
              "      <td>0.0</td>\n",
              "      <td>0.0</td>\n",
              "      <td>0.0</td>\n",
              "      <td>0.0</td>\n",
              "      <td>0.0</td>\n",
              "      <td>0.0</td>\n",
              "      <td>0.0</td>\n",
              "      <td>0.0</td>\n",
              "      <td>0.0</td>\n",
              "      <td>0.0</td>\n",
              "      <td>[0, 0, 0, 0, 0, 0, 0, 0, 0, 0, 0, 0, 0, 0]</td>\n",
              "      <td>1.0</td>\n",
              "    </tr>\n",
              "  </tbody>\n",
              "</table>\n",
              "</div>"
            ],
            "text/plain": [
              "           Image Index  ... No Finding\n",
              "2500  00012594_001.png  ...        0.0\n",
              "104   00000583_016.png  ...        0.0\n",
              "3305  00016300_001.png  ...        1.0\n",
              "\n",
              "[3 rows x 27 columns]"
            ]
          },
          "metadata": {
            "tags": []
          },
          "execution_count": 47
        }
      ]
    },
    {
      "cell_type": "code",
      "metadata": {
        "id": "VHbhF9Ez_M47",
        "outputId": "5b64d973-53dd-4426-8ad9-e4c64a01181e",
        "colab": {
          "base_uri": "https://localhost:8080/",
          "height": 289
        }
      },
      "source": [
        "(xray_data[all_labels].sum()/len(xray_data)).nlargest(20)"
      ],
      "execution_count": 50,
      "outputs": [
        {
          "output_type": "execute_result",
          "data": {
            "text/plain": [
              "No Finding            0.542990\n",
              "Infiltration          0.172494\n",
              "Effusion              0.114877\n",
              "Atelectasis           0.090617\n",
              "Nodule                0.055833\n",
              "Mass                  0.050660\n",
              "Pneumothorax          0.048341\n",
              "Consolidation         0.040314\n",
              "Pleural_Thickening    0.031395\n",
              "Cardiomegaly          0.025152\n",
              "Emphysema             0.022654\n",
              "Edema                 0.021049\n",
              "Fibrosis              0.014984\n",
              "Pneumonia             0.011060\n",
              "Hernia                0.002319\n",
              "dtype: float64"
            ]
          },
          "metadata": {
            "tags": []
          },
          "execution_count": 50
        }
      ]
    },
    {
      "cell_type": "code",
      "metadata": {
        "id": "SkOQnLJa_iz4",
        "outputId": "f35d5135-deed-4717-ee59-e965c281114f",
        "colab": {
          "base_uri": "https://localhost:8080/",
          "height": 551
        }
      },
      "source": [
        "xray_data[all_labels].corr()"
      ],
      "execution_count": 52,
      "outputs": [
        {
          "output_type": "execute_result",
          "data": {
            "text/html": [
              "<div>\n",
              "<style scoped>\n",
              "    .dataframe tbody tr th:only-of-type {\n",
              "        vertical-align: middle;\n",
              "    }\n",
              "\n",
              "    .dataframe tbody tr th {\n",
              "        vertical-align: top;\n",
              "    }\n",
              "\n",
              "    .dataframe thead th {\n",
              "        text-align: right;\n",
              "    }\n",
              "</style>\n",
              "<table border=\"1\" class=\"dataframe\">\n",
              "  <thead>\n",
              "    <tr style=\"text-align: right;\">\n",
              "      <th></th>\n",
              "      <th>Atelectasis</th>\n",
              "      <th>Cardiomegaly</th>\n",
              "      <th>Consolidation</th>\n",
              "      <th>Edema</th>\n",
              "      <th>Effusion</th>\n",
              "      <th>Emphysema</th>\n",
              "      <th>Fibrosis</th>\n",
              "      <th>Hernia</th>\n",
              "      <th>Infiltration</th>\n",
              "      <th>Mass</th>\n",
              "      <th>No Finding</th>\n",
              "      <th>Nodule</th>\n",
              "      <th>Pleural_Thickening</th>\n",
              "      <th>Pneumonia</th>\n",
              "      <th>Pneumothorax</th>\n",
              "    </tr>\n",
              "  </thead>\n",
              "  <tbody>\n",
              "    <tr>\n",
              "      <th>Atelectasis</th>\n",
              "      <td>1.000000</td>\n",
              "      <td>0.008822</td>\n",
              "      <td>0.112216</td>\n",
              "      <td>0.001330</td>\n",
              "      <td>0.180535</td>\n",
              "      <td>0.035462</td>\n",
              "      <td>0.027560</td>\n",
              "      <td>0.049376</td>\n",
              "      <td>0.069693</td>\n",
              "      <td>0.000750</td>\n",
              "      <td>-0.344084</td>\n",
              "      <td>-0.009102</td>\n",
              "      <td>0.014437</td>\n",
              "      <td>0.031977</td>\n",
              "      <td>0.021563</td>\n",
              "    </tr>\n",
              "    <tr>\n",
              "      <th>Cardiomegaly</th>\n",
              "      <td>0.008822</td>\n",
              "      <td>1.000000</td>\n",
              "      <td>0.030787</td>\n",
              "      <td>0.039935</td>\n",
              "      <td>0.145768</td>\n",
              "      <td>0.006169</td>\n",
              "      <td>0.017697</td>\n",
              "      <td>-0.007744</td>\n",
              "      <td>0.002045</td>\n",
              "      <td>-0.005938</td>\n",
              "      <td>-0.175084</td>\n",
              "      <td>-0.019214</td>\n",
              "      <td>-0.002787</td>\n",
              "      <td>0.015692</td>\n",
              "      <td>-0.025579</td>\n",
              "    </tr>\n",
              "    <tr>\n",
              "      <th>Consolidation</th>\n",
              "      <td>0.112216</td>\n",
              "      <td>0.030787</td>\n",
              "      <td>1.000000</td>\n",
              "      <td>0.020488</td>\n",
              "      <td>0.105337</td>\n",
              "      <td>-0.006825</td>\n",
              "      <td>0.004581</td>\n",
              "      <td>-0.009881</td>\n",
              "      <td>0.043246</td>\n",
              "      <td>0.068443</td>\n",
              "      <td>-0.223407</td>\n",
              "      <td>0.005458</td>\n",
              "      <td>0.035909</td>\n",
              "      <td>0.082385</td>\n",
              "      <td>0.004545</td>\n",
              "    </tr>\n",
              "    <tr>\n",
              "      <th>Edema</th>\n",
              "      <td>0.001330</td>\n",
              "      <td>0.039935</td>\n",
              "      <td>0.020488</td>\n",
              "      <td>1.000000</td>\n",
              "      <td>0.044600</td>\n",
              "      <td>-0.013973</td>\n",
              "      <td>-0.007857</td>\n",
              "      <td>-0.007069</td>\n",
              "      <td>0.084352</td>\n",
              "      <td>-0.005541</td>\n",
              "      <td>-0.159833</td>\n",
              "      <td>-0.014009</td>\n",
              "      <td>-0.026399</td>\n",
              "      <td>0.150844</td>\n",
              "      <td>-0.027255</td>\n",
              "    </tr>\n",
              "    <tr>\n",
              "      <th>Effusion</th>\n",
              "      <td>0.180535</td>\n",
              "      <td>0.145768</td>\n",
              "      <td>0.105337</td>\n",
              "      <td>0.044600</td>\n",
              "      <td>1.000000</td>\n",
              "      <td>0.035379</td>\n",
              "      <td>0.010822</td>\n",
              "      <td>0.005892</td>\n",
              "      <td>0.091674</td>\n",
              "      <td>0.054524</td>\n",
              "      <td>-0.392688</td>\n",
              "      <td>0.024471</td>\n",
              "      <td>0.057042</td>\n",
              "      <td>0.004694</td>\n",
              "      <td>0.054427</td>\n",
              "    </tr>\n",
              "    <tr>\n",
              "      <th>Emphysema</th>\n",
              "      <td>0.035462</td>\n",
              "      <td>0.006169</td>\n",
              "      <td>-0.006825</td>\n",
              "      <td>-0.013973</td>\n",
              "      <td>0.035379</td>\n",
              "      <td>1.000000</td>\n",
              "      <td>0.010825</td>\n",
              "      <td>-0.007340</td>\n",
              "      <td>-0.006050</td>\n",
              "      <td>0.035894</td>\n",
              "      <td>-0.165953</td>\n",
              "      <td>-0.010917</td>\n",
              "      <td>0.027586</td>\n",
              "      <td>0.018288</td>\n",
              "      <td>0.155719</td>\n",
              "    </tr>\n",
              "    <tr>\n",
              "      <th>Fibrosis</th>\n",
              "      <td>0.027560</td>\n",
              "      <td>0.017697</td>\n",
              "      <td>0.004581</td>\n",
              "      <td>-0.007857</td>\n",
              "      <td>0.010822</td>\n",
              "      <td>0.010825</td>\n",
              "      <td>1.000000</td>\n",
              "      <td>0.024580</td>\n",
              "      <td>-0.001902</td>\n",
              "      <td>0.011680</td>\n",
              "      <td>-0.134439</td>\n",
              "      <td>0.001983</td>\n",
              "      <td>0.053575</td>\n",
              "      <td>-0.013043</td>\n",
              "      <td>-0.014106</td>\n",
              "    </tr>\n",
              "    <tr>\n",
              "      <th>Hernia</th>\n",
              "      <td>0.049376</td>\n",
              "      <td>-0.007744</td>\n",
              "      <td>-0.009881</td>\n",
              "      <td>-0.007069</td>\n",
              "      <td>0.005892</td>\n",
              "      <td>-0.007340</td>\n",
              "      <td>0.024580</td>\n",
              "      <td>1.000000</td>\n",
              "      <td>-0.002380</td>\n",
              "      <td>0.039595</td>\n",
              "      <td>-0.052551</td>\n",
              "      <td>-0.011724</td>\n",
              "      <td>-0.008680</td>\n",
              "      <td>-0.005098</td>\n",
              "      <td>0.006425</td>\n",
              "    </tr>\n",
              "    <tr>\n",
              "      <th>Infiltration</th>\n",
              "      <td>0.069693</td>\n",
              "      <td>0.002045</td>\n",
              "      <td>0.043246</td>\n",
              "      <td>0.084352</td>\n",
              "      <td>0.091674</td>\n",
              "      <td>-0.006050</td>\n",
              "      <td>-0.001902</td>\n",
              "      <td>-0.002380</td>\n",
              "      <td>1.000000</td>\n",
              "      <td>0.010790</td>\n",
              "      <td>-0.497661</td>\n",
              "      <td>0.043204</td>\n",
              "      <td>0.007151</td>\n",
              "      <td>0.055554</td>\n",
              "      <td>-0.010447</td>\n",
              "    </tr>\n",
              "    <tr>\n",
              "      <th>Mass</th>\n",
              "      <td>0.000750</td>\n",
              "      <td>-0.005938</td>\n",
              "      <td>0.068443</td>\n",
              "      <td>-0.005541</td>\n",
              "      <td>0.054524</td>\n",
              "      <td>0.035894</td>\n",
              "      <td>0.011680</td>\n",
              "      <td>0.039595</td>\n",
              "      <td>0.010790</td>\n",
              "      <td>1.000000</td>\n",
              "      <td>-0.251799</td>\n",
              "      <td>0.099703</td>\n",
              "      <td>0.065693</td>\n",
              "      <td>0.006682</td>\n",
              "      <td>0.076875</td>\n",
              "    </tr>\n",
              "    <tr>\n",
              "      <th>No Finding</th>\n",
              "      <td>-0.344084</td>\n",
              "      <td>-0.175084</td>\n",
              "      <td>-0.223407</td>\n",
              "      <td>-0.159833</td>\n",
              "      <td>-0.392688</td>\n",
              "      <td>-0.165953</td>\n",
              "      <td>-0.134439</td>\n",
              "      <td>-0.052551</td>\n",
              "      <td>-0.497661</td>\n",
              "      <td>-0.251799</td>\n",
              "      <td>1.000000</td>\n",
              "      <td>-0.265066</td>\n",
              "      <td>-0.196241</td>\n",
              "      <td>-0.115270</td>\n",
              "      <td>-0.245669</td>\n",
              "    </tr>\n",
              "    <tr>\n",
              "      <th>Nodule</th>\n",
              "      <td>-0.009102</td>\n",
              "      <td>-0.019214</td>\n",
              "      <td>0.005458</td>\n",
              "      <td>-0.014009</td>\n",
              "      <td>0.024471</td>\n",
              "      <td>-0.010917</td>\n",
              "      <td>0.001983</td>\n",
              "      <td>-0.011724</td>\n",
              "      <td>0.043204</td>\n",
              "      <td>0.099703</td>\n",
              "      <td>-0.265066</td>\n",
              "      <td>1.000000</td>\n",
              "      <td>0.036415</td>\n",
              "      <td>0.018857</td>\n",
              "      <td>0.035749</td>\n",
              "    </tr>\n",
              "    <tr>\n",
              "      <th>Pleural_Thickening</th>\n",
              "      <td>0.014437</td>\n",
              "      <td>-0.002787</td>\n",
              "      <td>0.035909</td>\n",
              "      <td>-0.026399</td>\n",
              "      <td>0.057042</td>\n",
              "      <td>0.027586</td>\n",
              "      <td>0.053575</td>\n",
              "      <td>-0.008680</td>\n",
              "      <td>0.007151</td>\n",
              "      <td>0.065693</td>\n",
              "      <td>-0.196241</td>\n",
              "      <td>0.036415</td>\n",
              "      <td>1.000000</td>\n",
              "      <td>-0.009258</td>\n",
              "      <td>0.040500</td>\n",
              "    </tr>\n",
              "    <tr>\n",
              "      <th>Pneumonia</th>\n",
              "      <td>0.031977</td>\n",
              "      <td>0.015692</td>\n",
              "      <td>0.082385</td>\n",
              "      <td>0.150844</td>\n",
              "      <td>0.004694</td>\n",
              "      <td>0.018288</td>\n",
              "      <td>-0.013043</td>\n",
              "      <td>-0.005098</td>\n",
              "      <td>0.055554</td>\n",
              "      <td>0.006682</td>\n",
              "      <td>-0.115270</td>\n",
              "      <td>0.018857</td>\n",
              "      <td>-0.009258</td>\n",
              "      <td>1.000000</td>\n",
              "      <td>-0.007930</td>\n",
              "    </tr>\n",
              "    <tr>\n",
              "      <th>Pneumothorax</th>\n",
              "      <td>0.021563</td>\n",
              "      <td>-0.025579</td>\n",
              "      <td>0.004545</td>\n",
              "      <td>-0.027255</td>\n",
              "      <td>0.054427</td>\n",
              "      <td>0.155719</td>\n",
              "      <td>-0.014106</td>\n",
              "      <td>0.006425</td>\n",
              "      <td>-0.010447</td>\n",
              "      <td>0.076875</td>\n",
              "      <td>-0.245669</td>\n",
              "      <td>0.035749</td>\n",
              "      <td>0.040500</td>\n",
              "      <td>-0.007930</td>\n",
              "      <td>1.000000</td>\n",
              "    </tr>\n",
              "  </tbody>\n",
              "</table>\n",
              "</div>"
            ],
            "text/plain": [
              "                    Atelectasis  Cardiomegaly  ...  Pneumonia  Pneumothorax\n",
              "Atelectasis            1.000000      0.008822  ...   0.031977      0.021563\n",
              "Cardiomegaly           0.008822      1.000000  ...   0.015692     -0.025579\n",
              "Consolidation          0.112216      0.030787  ...   0.082385      0.004545\n",
              "Edema                  0.001330      0.039935  ...   0.150844     -0.027255\n",
              "Effusion               0.180535      0.145768  ...   0.004694      0.054427\n",
              "Emphysema              0.035462      0.006169  ...   0.018288      0.155719\n",
              "Fibrosis               0.027560      0.017697  ...  -0.013043     -0.014106\n",
              "Hernia                 0.049376     -0.007744  ...  -0.005098      0.006425\n",
              "Infiltration           0.069693      0.002045  ...   0.055554     -0.010447\n",
              "Mass                   0.000750     -0.005938  ...   0.006682      0.076875\n",
              "No Finding            -0.344084     -0.175084  ...  -0.115270     -0.245669\n",
              "Nodule                -0.009102     -0.019214  ...   0.018857      0.035749\n",
              "Pleural_Thickening     0.014437     -0.002787  ...  -0.009258      0.040500\n",
              "Pneumonia              0.031977      0.015692  ...   1.000000     -0.007930\n",
              "Pneumothorax           0.021563     -0.025579  ...  -0.007930      1.000000\n",
              "\n",
              "[15 rows x 15 columns]"
            ]
          },
          "metadata": {
            "tags": []
          },
          "execution_count": 52
        }
      ]
    },
    {
      "cell_type": "code",
      "metadata": {
        "id": "KAWUTG6B_83E",
        "outputId": "1539f32d-9895-4061-e275-226e03437768",
        "colab": {
          "base_uri": "https://localhost:8080/",
          "height": 370
        }
      },
      "source": [
        "sns.heatmap(xray_data[all_labels].corr(), cmap='Blues')"
      ],
      "execution_count": 55,
      "outputs": [
        {
          "output_type": "execute_result",
          "data": {
            "text/plain": [
              "<matplotlib.axes._subplots.AxesSubplot at 0x7efcb3da9320>"
            ]
          },
          "metadata": {
            "tags": []
          },
          "execution_count": 55
        },
        {
          "output_type": "display_data",
          "data": {
            "image/png": "[encoded data removed]",
            "text/plain": [
              "<Figure size 432x288 with 2 Axes>"
            ]
          },
          "metadata": {
            "tags": [],
            "needs_background": "light"
          }
        }
      ]
    },
    {
      "cell_type": "code",
      "metadata": {
        "id": "Lv9iuJFqAPws",
        "outputId": "60ace26d-77b6-473c-fccc-ab41cb4c08b3",
        "colab": {
          "base_uri": "https://localhost:8080/",
          "height": 34
        }
      },
      "source": [
        "!ls\n"
      ],
      "execution_count": 60,
      "outputs": [
        {
          "output_type": "stream",
          "text": [
            "sample_data\n"
          ],
          "name": "stdout"
        }
      ]
    },
    {
      "cell_type": "code",
      "metadata": {
        "id": "73HCKnAQsKE6"
      },
      "source": [
        "train, test = train_test_split(xray_data, test_size = 0.2)"
      ],
      "execution_count": 61,
      "outputs": []
    },
    {
      "cell_type": "code",
      "metadata": {
        "id": "O9UiSgVFsKE-",
        "outputId": "efd5cd9b-e9bc-47b2-cc8a-a77fd80df1ef",
        "colab": {
          "base_uri": "https://localhost:8080/",
          "height": 51
        }
      },
      "source": [
        "print(len(train))\n",
        "print(len(test))"
      ],
      "execution_count": 62,
      "outputs": [
        {
          "output_type": "stream",
          "text": [
            "4484\n",
            "1122\n"
          ],
          "name": "stdout"
        }
      ]
    },
    {
      "cell_type": "code",
      "metadata": {
        "id": "nM6S0bgesKFA",
        "outputId": "4e8133a6-e793-425f-d591-e5023adf30de",
        "colab": {
          "base_uri": "https://localhost:8080/",
          "height": 34
        }
      },
      "source": [
        "type(train)"
      ],
      "execution_count": 63,
      "outputs": [
        {
          "output_type": "execute_result",
          "data": {
            "text/plain": [
              "pandas.core.frame.DataFrame"
            ]
          },
          "metadata": {
            "tags": []
          },
          "execution_count": 63
        }
      ]
    },
    {
      "cell_type": "code",
      "metadata": {
        "id": "0B0GibJHsKFC"
      },
      "source": [
        "def mk_train_generator(df, directory, x_col, y_col, labels):\n",
        "    datagen = ImageDataGenerator(samplewise_center=True, \n",
        "                                 samplewise_std_normalization=True,\n",
        "                                 rotation_range=20,\n",
        "                                 width_shift_range=0.2,\n",
        "                                 height_shift_range=0.2,\n",
        "                                 rescale=1./255,\n",
        "                                 horizontal_flip=True)\n",
        "\n",
        "\n",
        "    generator = datagen.flow_from_dataframe(dataframe=df, \n",
        "                                            x_col=x_col, \n",
        "                                            y_col=y_col, \n",
        "                                            classes=labels,\n",
        "                                            class_mode='categorical',\n",
        "                                            color_mode='grayscale',\n",
        "                                            batch_size=32)\n",
        "    \n",
        "    return generator"
      ],
      "execution_count": 64,
      "outputs": []
    },
    {
      "cell_type": "code",
      "metadata": {
        "id": "JFfvgWwnsKFE"
      },
      "source": [
        "datagen = ImageDataGenerator(samplewise_center=True, \n",
        "                                 samplewise_std_normalization=True,\n",
        "                                 rotation_range=20,\n",
        "                                 width_shift_range=0.2,\n",
        "                                 height_shift_range=0.2,\n",
        "                                 horizontal_flip=True)"
      ],
      "execution_count": 23,
      "outputs": []
    },
    {
      "cell_type": "code",
      "metadata": {
        "id": "cSpnJgl1sKFG",
        "outputId": "59d5a210-3241-4176-94c3-865475084e00",
        "colab": {
          "base_uri": "https://localhost:8080/",
          "height": 88
        }
      },
      "source": [
        "training_set = mk_train_generator(train, './images/', 'Image Index', 'targets', labels)\n"
      ],
      "execution_count": 65,
      "outputs": [
        {
          "output_type": "stream",
          "text": [
            "Found 0 validated image filenames belonging to 14 classes.\n"
          ],
          "name": "stdout"
        },
        {
          "output_type": "stream",
          "text": [
            "/usr/local/lib/python3.6/dist-packages/keras_preprocessing/image/dataframe_iterator.py:282: UserWarning: Found 4484 invalid image filename(s) in x_col=\"Image Index\". These filename(s) will be ignored.\n",
            "  .format(n_invalid, x_col)\n"
          ],
          "name": "stderr"
        }
      ]
    },
    {
      "cell_type": "code",
      "metadata": {
        "id": "xOU8qT8asKFJ"
      },
      "source": [
        "test_datagen = ImageDataGenerator(rescale=1./255)"
      ],
      "execution_count": 67,
      "outputs": []
    },
    {
      "cell_type": "code",
      "metadata": {
        "id": "y7HoR2ZMsKFL",
        "outputId": "45fc4317-8342-4ee8-f2f6-ae39cf13929b",
        "colab": {
          "base_uri": "https://localhost:8080/",
          "height": 88
        }
      },
      "source": [
        "test_set = test_datagen.flow_from_dataframe(dataframe=test, \n",
        "                                            directory='./images/',\n",
        "                                            x_col='Image Index',\n",
        "                                            y_col='targets',\n",
        "                                            classes=labels,\n",
        "                                            class_mode='categorical',\n",
        "                                            color_mode='grayscale',\n",
        "                                            batch_size=32)"
      ],
      "execution_count": 68,
      "outputs": [
        {
          "output_type": "stream",
          "text": [
            "Found 0 validated image filenames belonging to 14 classes.\n"
          ],
          "name": "stdout"
        },
        {
          "output_type": "stream",
          "text": [
            "/usr/local/lib/python3.6/dist-packages/keras_preprocessing/image/dataframe_iterator.py:282: UserWarning: Found 1122 invalid image filename(s) in x_col=\"Image Index\". These filename(s) will be ignored.\n",
            "  .format(n_invalid, x_col)\n"
          ],
          "name": "stderr"
        }
      ]
    },
    {
      "cell_type": "code",
      "metadata": {
        "id": "vtVzeS6QsKFN"
      },
      "source": [
        "from keras.models import Sequential\n",
        "from keras.layers import Conv2D\n",
        "from keras.layers import MaxPooling2D\n",
        "from keras.layers import Flatten\n",
        "from keras.layers import Dense"
      ],
      "execution_count": 28,
      "outputs": []
    },
    {
      "cell_type": "code",
      "metadata": {
        "id": "puXx3tXasKFQ"
      },
      "source": [
        "classifier = Sequential()\n",
        "classifier.add(Conv2D(32, (3, 3), input_shape=(256,256,3), activation='relu'))"
      ],
      "execution_count": 29,
      "outputs": []
    },
    {
      "cell_type": "code",
      "metadata": {
        "id": "pixmXA5msKFS"
      },
      "source": [
        "classifier.add(MaxPooling2D(pool_size=(2,2)))"
      ],
      "execution_count": 30,
      "outputs": []
    },
    {
      "cell_type": "code",
      "metadata": {
        "id": "dJ8ZVWbhsKFU"
      },
      "source": [
        "classifier.add(Flatten())"
      ],
      "execution_count": 31,
      "outputs": []
    },
    {
      "cell_type": "code",
      "metadata": {
        "id": "XlsvOAARsKFX"
      },
      "source": [
        "classifier.add(Dense(units=128,activation='relu'))"
      ],
      "execution_count": 32,
      "outputs": []
    },
    {
      "cell_type": "code",
      "metadata": {
        "id": "QI2HM11UsKFZ"
      },
      "source": [
        "classifier.add(Dense(units=1,activation='sigmoid'))"
      ],
      "execution_count": 34,
      "outputs": []
    },
    {
      "cell_type": "code",
      "metadata": {
        "id": "elrfUlG2sKFb"
      },
      "source": [
        "classifier.compile(optimizer='adam', loss='categorical_crossentropy', metrics=['accuracy'])"
      ],
      "execution_count": 37,
      "outputs": []
    },
    {
      "cell_type": "code",
      "metadata": {
        "id": "_BdtuxwYsKFd",
        "outputId": "1c1361a2-0b76-4029-a07f-ae3e98b5466e",
        "colab": {
          "base_uri": "https://localhost:8080/",
          "height": 307
        }
      },
      "source": [
        "classifier.fit(training_set, batch_size=32,epochs=50)"
      ],
      "execution_count": 38,
      "outputs": [
        {
          "output_type": "error",
          "ename": "ValueError",
          "evalue": "ignored",
          "traceback": [
            "\u001b[0;31m---------------------------------------------------------------------------\u001b[0m",
            "\u001b[0;31mValueError\u001b[0m                                Traceback (most recent call last)",
            "\u001b[0;32m<ipython-input-38-a5be8b391d60>\u001b[0m in \u001b[0;36m<module>\u001b[0;34m()\u001b[0m\n\u001b[0;32m----> 1\u001b[0;31m \u001b[0mclassifier\u001b[0m\u001b[0;34m.\u001b[0m\u001b[0mfit\u001b[0m\u001b[0;34m(\u001b[0m\u001b[0mtraining_set\u001b[0m\u001b[0;34m,\u001b[0m \u001b[0mbatch_size\u001b[0m\u001b[0;34m=\u001b[0m\u001b[0;36m32\u001b[0m\u001b[0;34m,\u001b[0m\u001b[0mepochs\u001b[0m\u001b[0;34m=\u001b[0m\u001b[0;36m50\u001b[0m\u001b[0;34m)\u001b[0m\u001b[0;34m\u001b[0m\u001b[0;34m\u001b[0m\u001b[0m\n\u001b[0m",
            "\u001b[0;32m/usr/local/lib/python3.6/dist-packages/tensorflow/python/keras/engine/training.py\u001b[0m in \u001b[0;36m_method_wrapper\u001b[0;34m(self, *args, **kwargs)\u001b[0m\n\u001b[1;32m    106\u001b[0m   \u001b[0;32mdef\u001b[0m \u001b[0m_method_wrapper\u001b[0m\u001b[0;34m(\u001b[0m\u001b[0mself\u001b[0m\u001b[0;34m,\u001b[0m \u001b[0;34m*\u001b[0m\u001b[0margs\u001b[0m\u001b[0;34m,\u001b[0m \u001b[0;34m**\u001b[0m\u001b[0mkwargs\u001b[0m\u001b[0;34m)\u001b[0m\u001b[0;34m:\u001b[0m\u001b[0;34m\u001b[0m\u001b[0;34m\u001b[0m\u001b[0m\n\u001b[1;32m    107\u001b[0m     \u001b[0;32mif\u001b[0m \u001b[0;32mnot\u001b[0m \u001b[0mself\u001b[0m\u001b[0;34m.\u001b[0m\u001b[0m_in_multi_worker_mode\u001b[0m\u001b[0;34m(\u001b[0m\u001b[0;34m)\u001b[0m\u001b[0;34m:\u001b[0m  \u001b[0;31m# pylint: disable=protected-access\u001b[0m\u001b[0;34m\u001b[0m\u001b[0;34m\u001b[0m\u001b[0m\n\u001b[0;32m--> 108\u001b[0;31m       \u001b[0;32mreturn\u001b[0m \u001b[0mmethod\u001b[0m\u001b[0;34m(\u001b[0m\u001b[0mself\u001b[0m\u001b[0;34m,\u001b[0m \u001b[0;34m*\u001b[0m\u001b[0margs\u001b[0m\u001b[0;34m,\u001b[0m \u001b[0;34m**\u001b[0m\u001b[0mkwargs\u001b[0m\u001b[0;34m)\u001b[0m\u001b[0;34m\u001b[0m\u001b[0;34m\u001b[0m\u001b[0m\n\u001b[0m\u001b[1;32m    109\u001b[0m \u001b[0;34m\u001b[0m\u001b[0m\n\u001b[1;32m    110\u001b[0m     \u001b[0;31m# Running inside `run_distribute_coordinator` already.\u001b[0m\u001b[0;34m\u001b[0m\u001b[0;34m\u001b[0m\u001b[0;34m\u001b[0m\u001b[0m\n",
            "\u001b[0;32m/usr/local/lib/python3.6/dist-packages/tensorflow/python/keras/engine/training.py\u001b[0m in \u001b[0;36mfit\u001b[0;34m(self, x, y, batch_size, epochs, verbose, callbacks, validation_split, validation_data, shuffle, class_weight, sample_weight, initial_epoch, steps_per_epoch, validation_steps, validation_batch_size, validation_freq, max_queue_size, workers, use_multiprocessing)\u001b[0m\n\u001b[1;32m   1061\u001b[0m           \u001b[0muse_multiprocessing\u001b[0m\u001b[0;34m=\u001b[0m\u001b[0muse_multiprocessing\u001b[0m\u001b[0;34m,\u001b[0m\u001b[0;34m\u001b[0m\u001b[0;34m\u001b[0m\u001b[0m\n\u001b[1;32m   1062\u001b[0m           \u001b[0mmodel\u001b[0m\u001b[0;34m=\u001b[0m\u001b[0mself\u001b[0m\u001b[0;34m,\u001b[0m\u001b[0;34m\u001b[0m\u001b[0;34m\u001b[0m\u001b[0m\n\u001b[0;32m-> 1063\u001b[0;31m           steps_per_execution=self._steps_per_execution)\n\u001b[0m\u001b[1;32m   1064\u001b[0m \u001b[0;34m\u001b[0m\u001b[0m\n\u001b[1;32m   1065\u001b[0m       \u001b[0;31m# Container that configures and calls `tf.keras.Callback`s.\u001b[0m\u001b[0;34m\u001b[0m\u001b[0;34m\u001b[0m\u001b[0;34m\u001b[0m\u001b[0m\n",
            "\u001b[0;32m/usr/local/lib/python3.6/dist-packages/tensorflow/python/keras/engine/data_adapter.py\u001b[0m in \u001b[0;36m__init__\u001b[0;34m(self, x, y, sample_weight, batch_size, steps_per_epoch, initial_epoch, epochs, shuffle, class_weight, max_queue_size, workers, use_multiprocessing, model, steps_per_execution)\u001b[0m\n\u001b[1;32m   1115\u001b[0m         \u001b[0muse_multiprocessing\u001b[0m\u001b[0;34m=\u001b[0m\u001b[0muse_multiprocessing\u001b[0m\u001b[0;34m,\u001b[0m\u001b[0;34m\u001b[0m\u001b[0;34m\u001b[0m\u001b[0m\n\u001b[1;32m   1116\u001b[0m         \u001b[0mdistribution_strategy\u001b[0m\u001b[0;34m=\u001b[0m\u001b[0mds_context\u001b[0m\u001b[0;34m.\u001b[0m\u001b[0mget_strategy\u001b[0m\u001b[0;34m(\u001b[0m\u001b[0;34m)\u001b[0m\u001b[0;34m,\u001b[0m\u001b[0;34m\u001b[0m\u001b[0;34m\u001b[0m\u001b[0m\n\u001b[0;32m-> 1117\u001b[0;31m         model=model)\n\u001b[0m\u001b[1;32m   1118\u001b[0m \u001b[0;34m\u001b[0m\u001b[0m\n\u001b[1;32m   1119\u001b[0m     \u001b[0mstrategy\u001b[0m \u001b[0;34m=\u001b[0m \u001b[0mds_context\u001b[0m\u001b[0;34m.\u001b[0m\u001b[0mget_strategy\u001b[0m\u001b[0;34m(\u001b[0m\u001b[0;34m)\u001b[0m\u001b[0;34m\u001b[0m\u001b[0;34m\u001b[0m\u001b[0m\n",
            "\u001b[0;32m/usr/local/lib/python3.6/dist-packages/tensorflow/python/keras/engine/data_adapter.py\u001b[0m in \u001b[0;36m__init__\u001b[0;34m(self, x, y, sample_weights, shuffle, workers, use_multiprocessing, max_queue_size, model, **kwargs)\u001b[0m\n\u001b[1;32m    914\u001b[0m         \u001b[0mmax_queue_size\u001b[0m\u001b[0;34m=\u001b[0m\u001b[0mmax_queue_size\u001b[0m\u001b[0;34m,\u001b[0m\u001b[0;34m\u001b[0m\u001b[0;34m\u001b[0m\u001b[0m\n\u001b[1;32m    915\u001b[0m         \u001b[0mmodel\u001b[0m\u001b[0;34m=\u001b[0m\u001b[0mmodel\u001b[0m\u001b[0;34m,\u001b[0m\u001b[0;34m\u001b[0m\u001b[0;34m\u001b[0m\u001b[0m\n\u001b[0;32m--> 916\u001b[0;31m         **kwargs)\n\u001b[0m\u001b[1;32m    917\u001b[0m \u001b[0;34m\u001b[0m\u001b[0m\n\u001b[1;32m    918\u001b[0m   \u001b[0;34m@\u001b[0m\u001b[0mstaticmethod\u001b[0m\u001b[0;34m\u001b[0m\u001b[0;34m\u001b[0m\u001b[0m\n",
            "\u001b[0;32m/usr/local/lib/python3.6/dist-packages/tensorflow/python/keras/engine/data_adapter.py\u001b[0m in \u001b[0;36m__init__\u001b[0;34m(self, x, y, sample_weights, workers, use_multiprocessing, max_queue_size, model, **kwargs)\u001b[0m\n\u001b[1;32m    784\u001b[0m     \u001b[0;31m# Since we have to know the dtype of the python generator when we build the\u001b[0m\u001b[0;34m\u001b[0m\u001b[0;34m\u001b[0m\u001b[0;34m\u001b[0m\u001b[0m\n\u001b[1;32m    785\u001b[0m     \u001b[0;31m# dataset, we have to look at a batch to infer the structure.\u001b[0m\u001b[0;34m\u001b[0m\u001b[0;34m\u001b[0m\u001b[0;34m\u001b[0m\u001b[0m\n\u001b[0;32m--> 786\u001b[0;31m     \u001b[0mpeek\u001b[0m\u001b[0;34m,\u001b[0m \u001b[0mx\u001b[0m \u001b[0;34m=\u001b[0m \u001b[0mself\u001b[0m\u001b[0;34m.\u001b[0m\u001b[0m_peek_and_restore\u001b[0m\u001b[0;34m(\u001b[0m\u001b[0mx\u001b[0m\u001b[0;34m)\u001b[0m\u001b[0;34m\u001b[0m\u001b[0;34m\u001b[0m\u001b[0m\n\u001b[0m\u001b[1;32m    787\u001b[0m     \u001b[0mpeek\u001b[0m \u001b[0;34m=\u001b[0m \u001b[0mself\u001b[0m\u001b[0;34m.\u001b[0m\u001b[0m_standardize_batch\u001b[0m\u001b[0;34m(\u001b[0m\u001b[0mpeek\u001b[0m\u001b[0;34m)\u001b[0m\u001b[0;34m\u001b[0m\u001b[0;34m\u001b[0m\u001b[0m\n\u001b[1;32m    788\u001b[0m     \u001b[0mpeek\u001b[0m \u001b[0;34m=\u001b[0m \u001b[0m_process_tensorlike\u001b[0m\u001b[0;34m(\u001b[0m\u001b[0mpeek\u001b[0m\u001b[0;34m)\u001b[0m\u001b[0;34m\u001b[0m\u001b[0;34m\u001b[0m\u001b[0m\n",
            "\u001b[0;32m/usr/local/lib/python3.6/dist-packages/tensorflow/python/keras/engine/data_adapter.py\u001b[0m in \u001b[0;36m_peek_and_restore\u001b[0;34m(x)\u001b[0m\n\u001b[1;32m    918\u001b[0m   \u001b[0;34m@\u001b[0m\u001b[0mstaticmethod\u001b[0m\u001b[0;34m\u001b[0m\u001b[0;34m\u001b[0m\u001b[0m\n\u001b[1;32m    919\u001b[0m   \u001b[0;32mdef\u001b[0m \u001b[0m_peek_and_restore\u001b[0m\u001b[0;34m(\u001b[0m\u001b[0mx\u001b[0m\u001b[0;34m)\u001b[0m\u001b[0;34m:\u001b[0m\u001b[0;34m\u001b[0m\u001b[0;34m\u001b[0m\u001b[0m\n\u001b[0;32m--> 920\u001b[0;31m     \u001b[0;32mreturn\u001b[0m \u001b[0mx\u001b[0m\u001b[0;34m[\u001b[0m\u001b[0;36m0\u001b[0m\u001b[0;34m]\u001b[0m\u001b[0;34m,\u001b[0m \u001b[0mx\u001b[0m\u001b[0;34m\u001b[0m\u001b[0;34m\u001b[0m\u001b[0m\n\u001b[0m\u001b[1;32m    921\u001b[0m \u001b[0;34m\u001b[0m\u001b[0m\n\u001b[1;32m    922\u001b[0m   def _handle_multiprocessing(self, x, workers, use_multiprocessing,\n",
            "\u001b[0;32m/usr/local/lib/python3.6/dist-packages/keras_preprocessing/image/iterator.py\u001b[0m in \u001b[0;36m__getitem__\u001b[0;34m(self, idx)\u001b[0m\n\u001b[1;32m     55\u001b[0m                              \u001b[0;34m'but the Sequence '\u001b[0m\u001b[0;34m\u001b[0m\u001b[0;34m\u001b[0m\u001b[0m\n\u001b[1;32m     56\u001b[0m                              'has length {length}'.format(idx=idx,\n\u001b[0;32m---> 57\u001b[0;31m                                                           length=len(self)))\n\u001b[0m\u001b[1;32m     58\u001b[0m         \u001b[0;32mif\u001b[0m \u001b[0mself\u001b[0m\u001b[0;34m.\u001b[0m\u001b[0mseed\u001b[0m \u001b[0;32mis\u001b[0m \u001b[0;32mnot\u001b[0m \u001b[0;32mNone\u001b[0m\u001b[0;34m:\u001b[0m\u001b[0;34m\u001b[0m\u001b[0;34m\u001b[0m\u001b[0m\n\u001b[1;32m     59\u001b[0m             \u001b[0mnp\u001b[0m\u001b[0;34m.\u001b[0m\u001b[0mrandom\u001b[0m\u001b[0;34m.\u001b[0m\u001b[0mseed\u001b[0m\u001b[0;34m(\u001b[0m\u001b[0mself\u001b[0m\u001b[0;34m.\u001b[0m\u001b[0mseed\u001b[0m \u001b[0;34m+\u001b[0m \u001b[0mself\u001b[0m\u001b[0;34m.\u001b[0m\u001b[0mtotal_batches_seen\u001b[0m\u001b[0;34m)\u001b[0m\u001b[0;34m\u001b[0m\u001b[0;34m\u001b[0m\u001b[0m\n",
            "\u001b[0;31mValueError\u001b[0m: Asked to retrieve element 0, but the Sequence has length 0"
          ]
        }
      ]
    },
    {
      "cell_type": "code",
      "metadata": {
        "id": "fdamz64qsKFf",
        "outputId": "1503387e-e2c0-42bc-9610-b7f7d80893be",
        "colab": {
          "base_uri": "https://localhost:8080/",
          "height": 34
        }
      },
      "source": [
        "training_set"
      ],
      "execution_count": 40,
      "outputs": [
        {
          "output_type": "execute_result",
          "data": {
            "text/plain": [
              "<tensorflow.python.keras.preprocessing.image.DataFrameIterator at 0x7f7f00bde390>"
            ]
          },
          "metadata": {
            "tags": []
          },
          "execution_count": 40
        }
      ]
    },
    {
      "cell_type": "code",
      "metadata": {
        "id": "cS6dUpqYsKFh"
      },
      "source": [
        ""
      ],
      "execution_count": null,
      "outputs": []
    },
    {
      "cell_type": "code",
      "metadata": {
        "id": "F7nAy1vAsKFj"
      },
      "source": [
        ""
      ],
      "execution_count": null,
      "outputs": []
    }
  ]
}